{
  "nbformat": 4,
  "nbformat_minor": 0,
  "metadata": {
    "colab": {
      "name": "assignment4.ipynb",
      "provenance": []
    },
    "kernelspec": {
      "name": "python3",
      "display_name": "Python 3"
    }
  },
  "cells": [
    {
      "cell_type": "code",
      "metadata": {
        "id": "NvC5w2-zTM0P",
        "colab_type": "code",
        "colab": {
          "base_uri": "https://localhost:8080/",
          "height": 72
        },
        "outputId": "8d89bc3f-e6b0-4e5d-dda6-1eabbcb2249e"
      },
      "source": [
        "    def hcf(x, y):  \n",
        "       if x > y:  \n",
        "           smaller = y  \n",
        "       else:  \n",
        "           smaller = x  \n",
        "       for i in range(1,smaller + 1):  \n",
        "           if((x % i == 0) and (y % i == 0)):  \n",
        "               hcf = i  \n",
        "       return hcf  \n",
        "      \n",
        "    num1 = int(input(\"Enter first number: \"))  \n",
        "    num2 = int(input(\"Enter second number: \"))  \n",
        "    print(\"The H.C.F. of\", num1,\"and\", num2,\"is\", hcf(num1, num2))  \n",
        "    "
      ],
      "execution_count": 1,
      "outputs": [
        {
          "output_type": "stream",
          "text": [
            "Enter first number: 34\n",
            "Enter second number: 55\n",
            "The H.C.F. of 34 and 55 is 1\n"
          ],
          "name": "stdout"
        }
      ]
    },
    {
      "cell_type": "code",
      "metadata": {
        "id": "VsjrKgw_UPqt",
        "colab_type": "code",
        "colab": {
          "base_uri": "https://localhost:8080/",
          "height": 72
        },
        "outputId": "cdc7200c-da4f-4094-b2cc-c9b01626497d"
      },
      "source": [
        "word = input(\"Input a word to reverse: \")\n",
        "\n",
        "for char in range(len(word) - 1, -1, -1):\n",
        "  print(word[char], end=\"\")\n",
        "print(\"\\n\")"
      ],
      "execution_count": 3,
      "outputs": [
        {
          "output_type": "stream",
          "text": [
            "Input a word to reverse: prudvi\n",
            "ivdurp\n",
            "\n"
          ],
          "name": "stdout"
        }
      ]
    },
    {
      "cell_type": "code",
      "metadata": {
        "id": "4CgdiXNiVev8",
        "colab_type": "code",
        "colab": {
          "base_uri": "https://localhost:8080/",
          "height": 54
        },
        "outputId": "d3a9a4c4-9e83-4e09-b267-d9821790be35"
      },
      "source": [
        " \n",
        "# list of numbers \n",
        "list1 = [10, 21, 4, 45, 66, 93, 1] \n",
        "  \n",
        "even_count, odd_count = 0, 0\n",
        "  \n",
        "# iterating each number in list \n",
        "for num in list1: \n",
        "      \n",
        "    # checking condition \n",
        "    if num % 2 == 0: \n",
        "        even_count += 1\n",
        "  \n",
        "    else: \n",
        "        odd_count += 1\n",
        "          \n",
        "print(\"Even numbers in the list: \", even_count) \n",
        "print(\"Odd numbers in the list: \", odd_count) "
      ],
      "execution_count": 4,
      "outputs": [
        {
          "output_type": "stream",
          "text": [
            "Even numbers in the list:  3\n",
            "Odd numbers in the list:  4\n"
          ],
          "name": "stdout"
        }
      ]
    },
    {
      "cell_type": "code",
      "metadata": {
        "id": "oaTfyhzNWXMT",
        "colab_type": "code",
        "colab": {
          "base_uri": "https://localhost:8080/",
          "height": 54
        },
        "outputId": "a9c5914c-d3ce-4721-bd05-4afacf05ac18"
      },
      "source": [
        "#print the numbers 0 to 6 except 3,6\n",
        "for x in range(6):\n",
        "    if (x == 3 or x==6):\n",
        "        continue\n",
        "    print(x,end=' ')\n",
        "print(\"\\n\")"
      ],
      "execution_count": 5,
      "outputs": [
        {
          "output_type": "stream",
          "text": [
            "0 1 2 4 5 \n",
            "\n"
          ],
          "name": "stdout"
        }
      ]
    }
  ]
}